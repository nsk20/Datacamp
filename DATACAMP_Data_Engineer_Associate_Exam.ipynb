{
  "nbformat": 4,
  "nbformat_minor": 0,
  "metadata": {
    "colab": {
      "provenance": [],
      "authorship_tag": "ABX9TyPwIXHyCv63FzdwxURudb1W",
      "include_colab_link": true
    },
    "kernelspec": {
      "name": "python3",
      "display_name": "Python 3"
    },
    "language_info": {
      "name": "python"
    }
  },
  "cells": [
    {
      "cell_type": "markdown",
      "metadata": {
        "id": "view-in-github",
        "colab_type": "text"
      },
      "source": [
        "<a href=\"https://colab.research.google.com/github/nsk20/Datacamp/blob/main/DATACAMP_Data_Engineer_Associate_Exam.ipynb\" target=\"_parent\"><img src=\"https://colab.research.google.com/assets/colab-badge.svg\" alt=\"Open In Colab\"/></a>"
      ]
    },
    {
      "cell_type": "markdown",
      "source": [
        "# Data Engineer Associate Exam - Virtual Reality Fitness"
      ],
      "metadata": {
        "id": "2pgi40TW7XYG"
      }
    },
    {
      "cell_type": "markdown",
      "source": [
        "ActiVR provides a virtual reality device designed for exercise and fitness.\n",
        "\n",
        "ActiVR offers a range of products, including VR devices and subscription-based fitness programs through their apps.\n",
        "\n",
        "The sales team at ActiVR wants to analyze user data to enhance their marketing strategy and evaluate their products. For this, it is crucial that the data is clean, accurate, and available for reporting.\n",
        "\n",
        "They need your assistance in preparing the data before launching a new promotional campaign.\n",
        "\n",
        "\n",
        "**Database Schema**\n",
        "\n",
        "The data schema for ActiVR's database is outlined as follows:\n",
        "\n",
        "- **events:** Contains records of events registered in different games.\n",
        "- **games:** Stores information about various games available on the platform.\n",
        "- **devices:** Holds data about the virtual reality devices used by the users.\n",
        "- **users:** Contains details about the users utilizing the ActiVR platform.\n"
      ],
      "metadata": {
        "id": "nunOSHT57bj2"
      }
    },
    {
      "cell_type": "markdown",
      "source": [
        "# Task 1\n",
        "\n",
        "ActiVR's sales team wants to use the information it has about users for targeted marketing.\n",
        "\n",
        "However, they suspect that the data may need to be cleaned before.\n",
        "\n",
        "The expected data format and types for the `users` table according to the sales team's requirements is shown in the table below.\n",
        "\n",
        "Write an SQL query that returns the `users` table with the specified format. Ensure that your query does not modify the `users` table.\n",
        "\n",
        "\n",
        "| Column Name     | Description                                                  |\n",
        "|-----------------|--------------------------------------------------------------|\n",
        "| user_id         | Unique integer (assigned by the database, cannot be altered). Missing values are not possible due to the database structure. |\n",
        "| age             | Integer representing the age of the customer. Missing values should be replaced with the average age.                  |\n",
        "| registration_date | Date when the user made an account first (YYYY-MM-DD). Missing values should be replaced with January 1st, 2024.   |\n",
        "| email | Email address of the user. Missing values should be replaced with Unknown.  |\n",
        "| workout_frequency        | Workout frequency as a lowercase string, one of: _minimal_, _flexible_, _regular_, _maximal_. Missing values must be replaced with _flexible_. |\n"
      ],
      "metadata": {
        "id": "KeGDkieS7qlr"
      }
    },
    {
      "cell_type": "markdown",
      "source": [
        "```\n",
        "WITH cte as (SELECT\n",
        "  user_id,age,registration_date,email,lower(workout_frequency) as workout_frequency\n",
        "FROM users),\n",
        "cte1 as(SELECT\n",
        "  user_id,age,registration_date,email,\n",
        "\tCASE\n",
        "\t\tWHEN workout_frequency IN ('minimal', 'flexible', 'regular', 'maximal')\n",
        "\t \t\tTHEN workout_frequency\n",
        "\t\tELSE NULL\n",
        "\t  END AS workout_frequency\n",
        "\t FROM cte\n",
        ")\n",
        "\n",
        "SELECT\n",
        "user_id,\n",
        "COALESCE(age,AVG(AGE)OVER(ORDER BY user_id)) as age,\n",
        "COALESCE(registration_date,'2024-01-01')::Date as registration_date,\n",
        "COALESCE(email,'Unknown') as email,\n",
        "COALESCE(workout_frequency,'flexible') as workout_frequency\n",
        "FROM cte1\n",
        "\n",
        "\n",
        "```\n",
        "\n"
      ],
      "metadata": {
        "id": "OjN2Yt1i7thr"
      }
    },
    {
      "cell_type": "markdown",
      "source": [
        "# Task 2\n",
        "It seems like there are missing values in the `events` table for the column `game_id` for all events before the year 2021.\n",
        "\n",
        "However, we know that before 2021 there were only games where the `game_type` is `running`. The `game_id` for these games can be found in the `games` table.\n",
        "\n",
        "Write a query so that the `events` table has a `game_id` for all events including those before 2021."
      ],
      "metadata": {
        "id": "xsMz1T3q793w"
      }
    },
    {
      "cell_type": "markdown",
      "source": [
        "```\n",
        "SELECT event_id,\n",
        "\t\tCOALESCE(public.events.game_id,4)as game_id,\n",
        "\t\tdevice_id, user_id, event_time\n",
        "FROM public.events\n",
        "```"
      ],
      "metadata": {
        "id": "u05JezTS8CjF"
      }
    },
    {
      "cell_type": "markdown",
      "source": [
        "# Task 3\n",
        "\n",
        "ActiVR's sales team plans to launch a promotion for upgrades to virtual reality devices.\n",
        "\n",
        "They aim to target customers who have participated in events related to specific game types.\n",
        "\n",
        "Write a SQL query to provide the `user_id` and `event_time` for users who have participated in events related to `biking` games.\n"
      ],
      "metadata": {
        "id": "qWaJ3Oep8QH7"
      }
    },
    {
      "cell_type": "markdown",
      "source": [
        "```\n",
        "SELECT user_id, event_time\n",
        "FROM public.events e\n",
        "JOIN public.games g ON e.game_id = g.game_id\n",
        "WHERE g.game_type = 'biking'\n",
        "```"
      ],
      "metadata": {
        "id": "KmLZhwfD8TgB"
      }
    },
    {
      "cell_type": "markdown",
      "source": [
        "# Task 4\n",
        "\n",
        "After running their promotion, the sales team at ActiVR wants to investigate the results.\n",
        "\n",
        "To do so, they require insights into the number of users who participated in events for each `game_type`.\n",
        "\n",
        "Write a SQL query that returns the count of unique users for each game type `game_type` and `game_id`. The user count should be shown in a column `user_count`."
      ],
      "metadata": {
        "id": "yBTa2GVc8aPA"
      }
    },
    {
      "cell_type": "markdown",
      "source": [
        "\n",
        "\n",
        "```\n",
        "SELECT COUNT(DISTINCT user_id)AS user_count , g.game_type, g.game_id\n",
        "FROM public.events e\n",
        "JOIN public.games g ON e.game_id = g.game_id\n",
        "GROUP BY 2,3\n",
        "```\n",
        "\n"
      ],
      "metadata": {
        "id": "49Dtlw5Y8dsv"
      }
    },
    {
      "cell_type": "code",
      "source": [],
      "metadata": {
        "id": "Ef2K-V938Z-k"
      },
      "execution_count": null,
      "outputs": []
    },
    {
      "cell_type": "code",
      "source": [],
      "metadata": {
        "id": "LTBtSJF28HAy"
      },
      "execution_count": null,
      "outputs": []
    }
  ]
}